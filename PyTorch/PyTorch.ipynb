{
  "nbformat": 4,
  "nbformat_minor": 0,
  "metadata": {
    "colab": {
      "provenance": [],
      "authorship_tag": "ABX9TyPrvxk5mm8tr81qOYEbzzy1",
      "include_colab_link": true
    },
    "kernelspec": {
      "name": "python3",
      "display_name": "Python 3"
    },
    "language_info": {
      "name": "python"
    }
  },
  "cells": [
    {
      "cell_type": "markdown",
      "metadata": {
        "id": "view-in-github",
        "colab_type": "text"
      },
      "source": [
        "<a href=\"https://colab.research.google.com/github/divyap09/AI-ML/blob/main/PyTorch/PyTorch.ipynb\" target=\"_parent\"><img src=\"https://colab.research.google.com/assets/colab-badge.svg\" alt=\"Open In Colab\"/></a>"
      ]
    },
    {
      "cell_type": "markdown",
      "source": [
        "#PyTorch basics"
      ],
      "metadata": {
        "id": "NZvNg0dqJsjs"
      }
    },
    {
      "cell_type": "markdown",
      "source": [
        "- developed by Meta (Facebook)\n",
        "- popular deep learning framework\n",
        "- able to access many pre built-in models"
      ],
      "metadata": {
        "id": "GUPLIFyfKvJ3"
      }
    },
    {
      "cell_type": "markdown",
      "source": [],
      "metadata": {
        "id": "uTkLtqdTNNKv"
      }
    },
    {
      "cell_type": "code",
      "execution_count": 86,
      "metadata": {
        "id": "4b5sZs09JqaO"
      },
      "outputs": [],
      "source": []
    },
    {
      "cell_type": "code",
      "source": [
        "import pandas as pd\n",
        "import numpy as np\n",
        "import matplotlib.pyplot as plt\n"
      ],
      "metadata": {
        "id": "ru3EyOHoy4JD"
      },
      "execution_count": 87,
      "outputs": []
    },
    {
      "cell_type": "code",
      "source": [
        "import torch"
      ],
      "metadata": {
        "id": "-1jbJo_PzETa"
      },
      "execution_count": 88,
      "outputs": []
    },
    {
      "cell_type": "code",
      "source": [
        "device = \"cuda\" if torch.cuda.is_available() else \"cpu\"\n",
        "device"
      ],
      "metadata": {
        "colab": {
          "base_uri": "https://localhost:8080/",
          "height": 36
        },
        "id": "807MLeGLKeM_",
        "outputId": "1310cfcd-a1d7-42c3-9dbf-b8a6ffb56250"
      },
      "execution_count": 89,
      "outputs": [
        {
          "output_type": "execute_result",
          "data": {
            "text/plain": [
              "'cpu'"
            ],
            "application/vnd.google.colaboratory.intrinsic+json": {
              "type": "string"
            }
          },
          "metadata": {},
          "execution_count": 89
        }
      ]
    },
    {
      "cell_type": "code",
      "source": [
        "if device == 'cuda':\n",
        "  !nvidia-smi\n"
      ],
      "metadata": {
        "id": "vQMRHKMl0Goi"
      },
      "execution_count": 90,
      "outputs": []
    },
    {
      "cell_type": "markdown",
      "source": [
        "printing PyTorch version"
      ],
      "metadata": {
        "id": "KE2wq1tBzyRN"
      }
    },
    {
      "cell_type": "code",
      "source": [
        "#output: PyTorch version + CUDA version\n",
        "\n",
        "torch.__version__"
      ],
      "metadata": {
        "colab": {
          "base_uri": "https://localhost:8080/",
          "height": 36
        },
        "id": "A_6n98qczRJ7",
        "outputId": "c2ded565-31ec-4b3b-d46a-ec3d5df49f57"
      },
      "execution_count": 91,
      "outputs": [
        {
          "output_type": "execute_result",
          "data": {
            "text/plain": [
              "'2.4.0+cu121'"
            ],
            "application/vnd.google.colaboratory.intrinsic+json": {
              "type": "string"
            }
          },
          "metadata": {},
          "execution_count": 91
        }
      ]
    },
    {
      "cell_type": "markdown",
      "source": [
        "```\n",
        "torch.tensor(type)\n",
        "```\n",
        "\n",
        "To create a tensor with pre-defined data.\n",
        "It contains elements of a single data type.\n",
        "\n",
        "1. Scalar: n-dim = 0 and denoted by lower case\n",
        "2. vector: n-dim = 1 and denoted by lower case\n",
        "3. matirx: n-dim = 2 and denoted by upper case\n",
        "4. tensor: n-dim = non-zero and denoted by upper case\n",
        "\n",
        "requires_grad\n",
        "dtype: torch.int32 is default\n",
        "device: CPU is default, cuda:0 (no. of gpus)"
      ],
      "metadata": {
        "id": "t7epx9JR4uv3"
      }
    },
    {
      "cell_type": "markdown",
      "source": [
        "defining a scalar"
      ],
      "metadata": {
        "id": "g3uI5B5e1TQx"
      }
    },
    {
      "cell_type": "code",
      "source": [
        "scalar = torch.tensor(4)\n",
        "\n",
        "scalar, scalar.ndim, scalar.item()"
      ],
      "metadata": {
        "colab": {
          "base_uri": "https://localhost:8080/"
        },
        "id": "wt3p7a1izeZ0",
        "outputId": "f13fcd17-aa10-430d-bcd5-212b4e7913f5"
      },
      "execution_count": 92,
      "outputs": [
        {
          "output_type": "execute_result",
          "data": {
            "text/plain": [
              "(tensor(4), 0, 4)"
            ]
          },
          "metadata": {},
          "execution_count": 92
        }
      ]
    },
    {
      "cell_type": "markdown",
      "source": [
        "defining a vector"
      ],
      "metadata": {
        "id": "vL7D9_wg1XZE"
      }
    },
    {
      "cell_type": "code",
      "source": [
        "vector = torch.tensor([1,2,3])\n",
        "\n",
        "vector, vector.ndim"
      ],
      "metadata": {
        "colab": {
          "base_uri": "https://localhost:8080/"
        },
        "id": "rQlewKFf1bLD",
        "outputId": "61b22b49-ff5b-454e-fba9-a397c0cf100d"
      },
      "execution_count": 93,
      "outputs": [
        {
          "output_type": "execute_result",
          "data": {
            "text/plain": [
              "(tensor([1, 2, 3]), 1)"
            ]
          },
          "metadata": {},
          "execution_count": 93
        }
      ]
    },
    {
      "cell_type": "code",
      "source": [
        "MATRIX = torch.tensor([\n",
        "                        [1,2,-3], [4,-5,6]\n",
        "                      ])\n",
        "\n",
        "MATRIX, MATRIX.ndim, MATRIX[0]"
      ],
      "metadata": {
        "colab": {
          "base_uri": "https://localhost:8080/"
        },
        "id": "2TJ6I9W92Kuf",
        "outputId": "5aa0dbc2-8ea1-4639-f365-c7b0e7e8fddc"
      },
      "execution_count": 94,
      "outputs": [
        {
          "output_type": "execute_result",
          "data": {
            "text/plain": [
              "(tensor([[ 1,  2, -3],\n",
              "         [ 4, -5,  6]]),\n",
              " 2,\n",
              " tensor([ 1,  2, -3]))"
            ]
          },
          "metadata": {},
          "execution_count": 94
        }
      ]
    },
    {
      "cell_type": "code",
      "source": [
        "TENSOR = torch.tensor([\n",
        "                        [\n",
        "                            [1,2,3],\n",
        "                            [4,5,6],\n",
        "                            [7,8,9],\n",
        "                            [10,11,12]\n",
        "                        ]\n",
        "                      ])\n",
        "\n",
        "TENSOR, TENSOR.ndim, TENSOR[0][1]"
      ],
      "metadata": {
        "colab": {
          "base_uri": "https://localhost:8080/"
        },
        "id": "TkxQ69J_3SrM",
        "outputId": "799ad819-8d79-41d5-ead3-5b253923283f"
      },
      "execution_count": 95,
      "outputs": [
        {
          "output_type": "execute_result",
          "data": {
            "text/plain": [
              "(tensor([[[ 1,  2,  3],\n",
              "          [ 4,  5,  6],\n",
              "          [ 7,  8,  9],\n",
              "          [10, 11, 12]]]),\n",
              " 3,\n",
              " tensor([4, 5, 6]))"
            ]
          },
          "metadata": {},
          "execution_count": 95
        }
      ]
    },
    {
      "cell_type": "markdown",
      "source": [
        "to get a value of tensor containing single value; it converts a tensor into a scalar. If n > 1, it is unable to convert into scalar."
      ],
      "metadata": {
        "id": "UmHXgXiIz7OA"
      }
    },
    {
      "cell_type": "code",
      "source": [
        "print(scalar.item())\n",
        "\n",
        "vector_one = torch.tensor([100])\n",
        "print(vector_one.item())\n",
        "\n",
        "MATRIX_one = torch.tensor([[7]], dtype=torch.float32)\n",
        "print(MATRIX_one.item())"
      ],
      "metadata": {
        "colab": {
          "base_uri": "https://localhost:8080/"
        },
        "id": "MHLalpcfzjRj",
        "outputId": "f420409d-12d3-4ee6-ccb4-d774ba82ee57"
      },
      "execution_count": 96,
      "outputs": [
        {
          "output_type": "stream",
          "name": "stdout",
          "text": [
            "4\n",
            "100\n",
            "7.0\n"
          ]
        }
      ]
    },
    {
      "cell_type": "markdown",
      "source": [
        "transpose of a tensor.\n",
        "\n",
        "```\n",
        "variable.T\n",
        "```\n",
        "\n",
        "- scalars won't have this feature"
      ],
      "metadata": {
        "id": "EBiUnoU02f5L"
      }
    },
    {
      "cell_type": "code",
      "source": [
        "vector.T, MATRIX.T, TENSOR.T"
      ],
      "metadata": {
        "colab": {
          "base_uri": "https://localhost:8080/"
        },
        "id": "iOOeZSen2eg_",
        "outputId": "a48f33b2-5119-4159-c7ac-71a5f2163c6b"
      },
      "execution_count": 97,
      "outputs": [
        {
          "output_type": "execute_result",
          "data": {
            "text/plain": [
              "(tensor([1, 2, 3]),\n",
              " tensor([[ 1,  4],\n",
              "         [ 2, -5],\n",
              "         [-3,  6]]),\n",
              " tensor([[[ 1],\n",
              "          [ 4],\n",
              "          [ 7],\n",
              "          [10]],\n",
              " \n",
              "         [[ 2],\n",
              "          [ 5],\n",
              "          [ 8],\n",
              "          [11]],\n",
              " \n",
              "         [[ 3],\n",
              "          [ 6],\n",
              "          [ 9],\n",
              "          [12]]]))"
            ]
          },
          "metadata": {},
          "execution_count": 97
        }
      ]
    },
    {
      "cell_type": "markdown",
      "source": [
        "```\n",
        "variable.shape\n",
        "```\n",
        "- gives the m x n x p x .. shape"
      ],
      "metadata": {
        "id": "lBcClbt43lYq"
      }
    },
    {
      "cell_type": "code",
      "source": [
        "print(vector.shape, vector.T.shape)\n",
        "print(MATRIX.shape, MATRIX.T.shape)\n",
        "print(TENSOR.shape, TENSOR.T.shape)"
      ],
      "metadata": {
        "colab": {
          "base_uri": "https://localhost:8080/"
        },
        "id": "0JZZ2IWf24IM",
        "outputId": "13c4726f-9e6b-4acb-d5bc-a836a853acae"
      },
      "execution_count": 98,
      "outputs": [
        {
          "output_type": "stream",
          "name": "stdout",
          "text": [
            "torch.Size([3]) torch.Size([3])\n",
            "torch.Size([2, 3]) torch.Size([3, 2])\n",
            "torch.Size([1, 4, 3]) torch.Size([3, 4, 1])\n"
          ]
        }
      ]
    },
    {
      "cell_type": "markdown",
      "source": [
        "get absolute values of the tensor\n",
        "abs() and absolute() are equivalent"
      ],
      "metadata": {
        "id": "shn5zMdG4fAR"
      }
    },
    {
      "cell_type": "code",
      "source": [
        "print(MATRIX)\n",
        "print(MATRIX.abs())\n",
        "print(MATRIX.absolute())"
      ],
      "metadata": {
        "colab": {
          "base_uri": "https://localhost:8080/"
        },
        "id": "jXhOQgNn4Mg9",
        "outputId": "6bec5994-e8b2-4bc6-a2d6-861fd795626b"
      },
      "execution_count": 99,
      "outputs": [
        {
          "output_type": "stream",
          "name": "stdout",
          "text": [
            "tensor([[ 1,  2, -3],\n",
            "        [ 4, -5,  6]])\n",
            "tensor([[1, 2, 3],\n",
            "        [4, 5, 6]])\n",
            "tensor([[1, 2, 3],\n",
            "        [4, 5, 6]])\n"
          ]
        }
      ]
    },
    {
      "cell_type": "markdown",
      "source": [
        "min and max values"
      ],
      "metadata": {
        "id": "n27xJsbP485U"
      }
    },
    {
      "cell_type": "code",
      "source": [
        "vector.min().item(), vector.max().item()"
      ],
      "metadata": {
        "colab": {
          "base_uri": "https://localhost:8080/"
        },
        "id": "n5NxutIz4_a_",
        "outputId": "7fe956c0-6c98-432d-a4a4-adbeefd4058c"
      },
      "execution_count": 100,
      "outputs": [
        {
          "output_type": "execute_result",
          "data": {
            "text/plain": [
              "(1, 3)"
            ]
          },
          "metadata": {},
          "execution_count": 100
        }
      ]
    },
    {
      "cell_type": "markdown",
      "source": [
        "sort"
      ],
      "metadata": {
        "id": "CTnwdO8I5ObM"
      }
    },
    {
      "cell_type": "code",
      "source": [
        "vector.argsort(), vector"
      ],
      "metadata": {
        "colab": {
          "base_uri": "https://localhost:8080/"
        },
        "id": "nb1Z2Vgc5Pyc",
        "outputId": "0145f714-a42c-40c4-b245-8a4551855dd2"
      },
      "execution_count": 101,
      "outputs": [
        {
          "output_type": "execute_result",
          "data": {
            "text/plain": [
              "(tensor([0, 1, 2]), tensor([1, 2, 3]))"
            ]
          },
          "metadata": {},
          "execution_count": 101
        }
      ]
    },
    {
      "cell_type": "code",
      "source": [
        "vector_in = torch.rand(3, dtype=torch.float32)*10\n",
        "vector_out = torch.rand(3) #define the same shape as the input\n",
        "\n",
        "#out is optional\n",
        "vector_in, torch.ceil(vector_in, out=vector_out), torch.floor(vector_in)"
      ],
      "metadata": {
        "colab": {
          "base_uri": "https://localhost:8080/"
        },
        "id": "z-lIWzp25tZn",
        "outputId": "305cd490-0843-4b08-c692-d0c395660786"
      },
      "execution_count": 102,
      "outputs": [
        {
          "output_type": "execute_result",
          "data": {
            "text/plain": [
              "(tensor([7.8259, 8.8875, 4.1654]), tensor([8., 9., 5.]), tensor([7., 8., 4.]))"
            ]
          },
          "metadata": {},
          "execution_count": 102
        }
      ]
    },
    {
      "cell_type": "code",
      "source": [
        "vector_out"
      ],
      "metadata": {
        "colab": {
          "base_uri": "https://localhost:8080/"
        },
        "id": "54wjtc6N61pW",
        "outputId": "f7fe57d5-60e4-4beb-ae67-8e4894768e83"
      },
      "execution_count": 103,
      "outputs": [
        {
          "output_type": "execute_result",
          "data": {
            "text/plain": [
              "tensor([8., 9., 5.])"
            ]
          },
          "metadata": {},
          "execution_count": 103
        }
      ]
    },
    {
      "cell_type": "markdown",
      "source": [
        "extract fractional part"
      ],
      "metadata": {
        "id": "DUcR-ul6_FLS"
      }
    },
    {
      "cell_type": "code",
      "source": [
        "torch.frac(vector_in)"
      ],
      "metadata": {
        "colab": {
          "base_uri": "https://localhost:8080/"
        },
        "id": "rYtCWQSc-18m",
        "outputId": "befc562e-0e41-46a9-de64-f2182dad2d6b"
      },
      "execution_count": 127,
      "outputs": [
        {
          "output_type": "execute_result",
          "data": {
            "text/plain": [
              "tensor([0.8259, 0.8875, 0.1654])"
            ]
          },
          "metadata": {},
          "execution_count": 127
        }
      ]
    },
    {
      "cell_type": "markdown",
      "source": [
        "rand() will always give decimal part between 0 and 1"
      ],
      "metadata": {
        "id": "ldaWI-389fvw"
      }
    },
    {
      "cell_type": "code",
      "source": [
        "vector_rand = torch.rand(3)\n",
        "vector_rand = torch.tensor(torch.floor(vector_rand *5),dtype = torch.int)\n",
        "vector_rand"
      ],
      "metadata": {
        "colab": {
          "base_uri": "https://localhost:8080/"
        },
        "id": "PGRTc9oC8vNT",
        "outputId": "39429348-8d01-4556-fa61-69d5a789db44"
      },
      "execution_count": 119,
      "outputs": [
        {
          "output_type": "stream",
          "name": "stderr",
          "text": [
            "<ipython-input-119-a7b8cf2132f4>:2: UserWarning: To copy construct from a tensor, it is recommended to use sourceTensor.clone().detach() or sourceTensor.clone().detach().requires_grad_(True), rather than torch.tensor(sourceTensor).\n",
            "  vector_rand = torch.tensor(torch.floor(vector_rand *5),dtype = torch.int)\n"
          ]
        },
        {
          "output_type": "execute_result",
          "data": {
            "text/plain": [
              "tensor([3, 0, 4], dtype=torch.int32)"
            ]
          },
          "metadata": {},
          "execution_count": 119
        }
      ]
    },
    {
      "cell_type": "markdown",
      "source": [
        "To compare each tensor's entry with another tensor's entry"
      ],
      "metadata": {
        "id": "-p32HQcx725p"
      }
    },
    {
      "cell_type": "code",
      "source": [
        "vector.eq(vector_rand)"
      ],
      "metadata": {
        "colab": {
          "base_uri": "https://localhost:8080/"
        },
        "id": "-mljjTWA7fp-",
        "outputId": "725160ef-b9e3-4cf6-ca12-5b388268f4ff"
      },
      "execution_count": 120,
      "outputs": [
        {
          "output_type": "execute_result",
          "data": {
            "text/plain": [
              "tensor([False, False, False])"
            ]
          },
          "metadata": {},
          "execution_count": 120
        }
      ]
    },
    {
      "cell_type": "markdown",
      "source": [
        "To compare two tensors whether they are exactly same or not"
      ],
      "metadata": {
        "id": "sdRLK27a8TWz"
      }
    },
    {
      "cell_type": "code",
      "source": [
        "print(vector.equal(vector_rand))\n",
        "print(vector.equal(torch.tensor([-1,2,3]).abs()))"
      ],
      "metadata": {
        "colab": {
          "base_uri": "https://localhost:8080/"
        },
        "id": "6R2A2RWx8Dsf",
        "outputId": "64f2b2e8-9e93-4400-af76-700a96cb4139"
      },
      "execution_count": 121,
      "outputs": [
        {
          "output_type": "stream",
          "name": "stdout",
          "text": [
            "False\n",
            "True\n"
          ]
        }
      ]
    },
    {
      "cell_type": "markdown",
      "source": [
        "to find the value of the exponential power,\n",
        "$y = e^x$"
      ],
      "metadata": {
        "id": "XzCp48Dr8m2N"
      }
    },
    {
      "cell_type": "code",
      "source": [
        "vector, vector.exp()"
      ],
      "metadata": {
        "colab": {
          "base_uri": "https://localhost:8080/"
        },
        "id": "-7kh3FZ18dYF",
        "outputId": "adfcf76a-0d5d-4b6e-ca5f-fb279638137c"
      },
      "execution_count": 124,
      "outputs": [
        {
          "output_type": "execute_result",
          "data": {
            "text/plain": [
              "(tensor([1, 2, 3]), tensor([ 2.7183,  7.3891, 20.0855]))"
            ]
          },
          "metadata": {},
          "execution_count": 124
        }
      ]
    },
    {
      "cell_type": "markdown",
      "source": [],
      "metadata": {
        "id": "8bqOSiQxK5d4"
      }
    }
  ]
}